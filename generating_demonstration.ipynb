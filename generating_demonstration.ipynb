{
 "cells": [
  {
   "cell_type": "code",
   "execution_count": 17,
   "id": "3e24a35c",
   "metadata": {},
   "outputs": [],
   "source": [
    "import openai\n",
    "openai.api_key = \"Add your key here\""
   ]
  },
  {
   "cell_type": "code",
   "execution_count": 20,
   "id": "b3d8866b",
   "metadata": {},
   "outputs": [],
   "source": [
    "def generate_question(propmpt_generator, n):\n",
    "# create a completion\n",
    "    response = openai.ChatCompletion.create(\n",
    "        model=\"gpt-3.5-turbo-0301\",\n",
    "        messages = [{\"role\": \"system\",\n",
    "        \"content\": \"text completion\"},\n",
    "        {\"role\": \"user\",\n",
    "        \"content\" : propmpt_generator}],\n",
    "        max_tokens=600,\n",
    "        temperature=0.8,  # seems like temperature sensitive\n",
    "        top_p=1,\n",
    "        stop=[\"Q: \"],\n",
    "        n=n\n",
    "        )\n",
    "\n",
    "    return response[\"choices\"][0][\"message\"][\"content\"]"
   ]
  },
  {
   "cell_type": "code",
   "execution_count": 68,
   "id": "48b78446",
   "metadata": {},
   "outputs": [
    {
     "data": {
      "text/plain": [
       "'Question 1: A book is open on a table. Lydia closes the book. Emily opens the book. Casey does not touch the book. Clifford does not touch the book. Is the book still open?\\n\\nQuestion 2: A light is turned on in a room. John turns off the light. Sarah turns on the light. Tom does not touch the light. Lily does not touch the light. Is the light still turned on?\\n\\nQuestion 3: A door is closed. Lisa opens the door. Frank closes the door. Tony does not touch the door. Naomi does not touch the door. Is the door still closed?\\n\\nQuestion 4: A cup is filled with water. Mary pours out the water. Josh fills the cup with water. Max does not touch the cup. Olivia does not touch the cup. Is the cup still filled with water?\\n\\nQuestion 5: A pencil is sharpened. Ana dulls the pencil. Isaac sharpens the pencil. Mia does not touch the pencil. Luke does not touch the pencil. Is the pencil still sharpened?\\n\\nQuestion 6: A plant is watered. Ethan takes away the water. Grace waters the plant. Lucas does not touch the plant. Bella does not touch the plant. Is the plant still watered?\\n\\nQuestion 7: A phone is on silent. Ava turns off the silent mode. Liam turns on the silent mode. Jacob does not touch the phone. Ruby does not touch the phone. Is the phone still on silent?\\n\\nQuestion 8: A window is closed. Mark opens the window. Daniel closes the window. Sophie does not touch the window. Emma does not touch the window. Is the window still closed?\\n\\nQuestion 9: A computer is turned off. Alex turns on the computer. Mia turns off the computer. Hannah does not touch the computer. Owen does not touch the computer. Is the computer still turned off?\\n\\nQuestion 10: A car is parked. Sarah drives the car. John parks the car. Rachel does not touch the car. Jack does not touch the car. Is the car still parked?\\n\\nQuestion 11: A cake is whole. Jessica slices the cake. David eats a slice of the cake. Ava does not touch the cake. Max does not touch the cake. Is the cake still whole?'"
      ]
     },
     "execution_count": 68,
     "metadata": {},
     "output_type": "execute_result"
    }
   ],
   "source": [
    "question_generator = \"Generate 11 questions with the same structure as the given question and answer generated questions:\" + propmpt_generator\n",
    "questions = generate_question(question_generator, 1)\n",
    "questions"
   ]
  },
  {
   "cell_type": "markdown",
   "id": "4dfd3f03",
   "metadata": {},
   "source": [
    "# cycle"
   ]
  },
  {
   "cell_type": "code",
   "execution_count": 76,
   "id": "691a0626",
   "metadata": {},
   "outputs": [
    {
     "data": {
      "text/plain": [
       "'1. Please unscramble the letters into a word, and write that word: litogbo = globito\\n2. Please unscramble the letters into a word, and write that word: yfiroct = victory\\n3. Please unscramble the letters into a word, and write that word: triocsk = stickor\\n4. Please unscramble the letters into a word, and write that word: erygail = allergy\\n5. Please unscramble the letters into a word, and write that word: nemorpi = permoni\\n6. Please unscramble the letters into a word, and write that word: okasinw = wakoins\\n7. Please unscramble the letters into a word, and write that word: heirlip = philire\\n8. Please unscramble the letters into a word, and write that word: itorap = patriot\\n9. Please unscramble the letters into a word, and write that word: faersi = fraises\\n10. Please unscramble the letters into a word, and write that word: nioterd = tindore'"
      ]
     },
     "execution_count": 76,
     "metadata": {},
     "output_type": "execute_result"
    }
   ],
   "source": [
    "q=\"Please unscramble the letters into a word, and write that word: meanyti =\"\n",
    "question_generator = \"Generate 10 questions with the same structure as the given question, and answer generated questions:\" + q\n",
    "questions = generate_question(question_generator, 1)\n",
    "print(questions)"
   ]
  },
  {
   "cell_type": "code",
   "execution_count": null,
   "id": "6f2492dc",
   "metadata": {},
   "outputs": [],
   "source": [
    "q=\"Please unscramble the letters into a word, and write that word: meanyti =\"\n",
    "question_generator = \"Generate 10 similar questions as the given question, and answer generated questions:\" + q\n",
    "questions = generate_question(question_generator, 1)\n",
    "print(questions)"
   ]
  },
  {
   "cell_type": "markdown",
   "id": "8bd09a85",
   "metadata": {},
   "source": [
    "# GSM8k"
   ]
  },
  {
   "cell_type": "code",
   "execution_count": 25,
   "id": "38fa8216",
   "metadata": {},
   "outputs": [
    {
     "name": "stdout",
     "output_type": "stream",
     "text": [
      "1. If John works for the same company for 50 years, he gets an annual pension of $60,000/year. Starting after 25 years, he becomes entitled to 4% of the value of the pension per year. If he quits after 35 years, what will his annual pension be?\n",
      "\n",
      "Answer: John's annual pension will be $36,000/year.\n",
      "\n",
      "2. If Sarah works for the same company for 30 years, she gets an annual pension of $40,000/year. Starting after 15 years, she becomes entitled to 6% of the value of the pension per year. If she quits after 25 years, what will her annual pension be?\n",
      "\n",
      "Answer: Sarah's annual pension will be $52,800/year.\n",
      "\n",
      "3. If Tom works for the same company for 35 years, he gets an annual pension of $70,000/year. Starting after 18 years, he becomes entitled to 3% of the value of the pension per year. If he quits after 28 years, what will his annual pension be?\n",
      "\n",
      "Answer: Tom's annual pension will be $49,000/year.\n",
      "\n",
      "4. If Emily works for the same company for 45 years, she gets an annual pension of $80,000/year. Starting after 22 years, she becomes entitled to 5.5% of the value of the pension per year. If she quits after 32 years, what will her annual pension be?\n",
      "\n",
      "Answer: Emily's annual pension will be $66,000/year.\n",
      "\n",
      "5. If James works for the same company for 25 years, he gets an annual pension of $30,000/year. Starting after 12 years, he becomes entitled to 4.5% of the value of the pension per year. If he quits after 20 years, what will his annual pension be?\n",
      "\n",
      "Answer: James's annual pension will be $32,400/year.\n",
      "\n",
      "6. If Olivia works for the same company for 28 years, she gets an annual pension of $45,000/year. Starting after 14 years, she becomes entitled to 3% of the value of the pension per year. If she quits after 24 years, what will her annual pension be?\n",
      "\n",
      "Answer: Olivia's annual pension will be $51,300/year.\n",
      "\n",
      "7. If David works for the same company for 50 years, he gets an annual pension of $100,000/year. Starting after 30 years, he becomes entitled to 4.5% of the value of the pension per year. If he quits after 40 years, what will his annual pension be?\n",
      "\n",
      "Answer: David's annual pension will be $58,500/year.\n",
      "\n",
      "8. If Ava works for the same company for 20 years, she gets an annual pension of $25,000/year. Starting after 10 years, she becomes entitled to 6.5% of the value of the pension per year. If she quits after \n"
     ]
    }
   ],
   "source": [
    "q=\"If Marcy works for the same company for 40 years, she gets an annual pension of $50,000/year. Starting after 20 years, she becomes entitled to 5% of the value of the pension per year. If she quits after 30 years, what will her annual pension be?\"\n",
    "question_generator = \"Generate 10 similar questions as the given question, and answer generated questions:\" + q\n",
    "questions = generate_question(question_generator, 1)\n",
    "print(questions)"
   ]
  },
  {
   "cell_type": "code",
   "execution_count": 27,
   "id": "26eb8173",
   "metadata": {},
   "outputs": [
    {
     "name": "stdout",
     "output_type": "stream",
     "text": [
      "1. If Marcy works for the same company for 50 years, what will her annual pension be?\n",
      "2. What is the percentage increase in Marcy's annual pension if she works for the same company for 50 years?\n",
      "3. If Marcy decides to retire after working for the same company for 35 years, what will her annual pension be?\n",
      "4. If Marcy's pension scheme changes to 7% of the value of the pension per year, what will her annual pension be after working for the same company for 30 years?\n",
      "5. If Marcy starts receiving her pension after working for the same company for 25 years, what will her annual pension be?\n",
      "6. If Marcy works for the same company for 45 years, what will be the total amount of her pension?\n",
      "7. What will be the annual pension of Marcy if she starts receiving her pension after working for the same company for 15 years?\n",
      "8. If Marcy's annual pension increases by 3% every year, what will be her annual pension after working for the same company for 40 years?\n",
      "9. What will be the total amount of Marcy's pension if she works for the same company for 50 years?\n",
      "10. If Marcy decides to leave the company after working for 25 years, what will be the amount of her annual pension?\n"
     ]
    }
   ],
   "source": [
    "q=\"If Marcy works for the same company for 40 years, she gets an annual pension of $50,000/year. Starting after 20 years, she becomes entitled to 5% of the value of the pension per year. If she quits after 30 years, what will her annual pension be?\"\n",
    "question_generator = \"Generate 10 similar questions as the given question:\" + q\n",
    "questions = generate_question(question_generator, 1)\n",
    "print(questions)"
   ]
  },
  {
   "cell_type": "markdown",
   "id": "667e70ae",
   "metadata": {},
   "source": [
    "# Aqua"
   ]
  },
  {
   "cell_type": "code",
   "execution_count": 26,
   "id": "1f3e7709",
   "metadata": {},
   "outputs": [
    {
     "name": "stdout",
     "output_type": "stream",
     "text": [
      "1. If Fernando decides to skip lunch on one day each week, how many different meal allocation options does he have?\n",
      "Answer: 10 options.\n",
      "\n",
      "2. If Fernando decides to have only dinners for the whole week, how many different meal allocation options does he have?\n",
      "Answer: 4 options.\n",
      "\n",
      "3. If Fernando decides to have lunch only on Monday, Wednesday, and Thursday, and dinners only on Tuesday and Thursday, how many different meal allocation options does he have?\n",
      "Answer: 3 options.\n",
      "\n",
      "4. If Fernando decides to have all his meals on weekdays, how many different meal allocation options does he have?\n",
      "Answer: 6 options.\n",
      "\n",
      "5. If Fernando decides to have lunch and dinner on Monday and Wednesday, and only dinner on Friday, how many different meal allocation options does he have?\n",
      "Answer: 3 options.\n",
      "\n",
      "6. If Fernando decides to have lunch and dinner on Tuesday and Thursday, and only dinner on Friday, how many different meal allocation options does he have?\n",
      "Answer: 3 options.\n",
      "\n",
      "7. If Fernando decides to have lunch and dinner on Monday, Wednesday, and Friday, how many different meal allocation options does he have?\n",
      "Answer: 2 options.\n",
      "\n",
      "8. If Fernando decides to have lunch and dinner on Tuesday and Thursday, and only lunch on Friday, how many different meal allocation options does he have?\n",
      "Answer: 3 options.\n",
      "\n",
      "9. If Fernando decides to have lunch and dinner on Monday and Wednesday, and only lunch on Friday, how many different meal allocation options does he have?\n",
      "Answer: 3 options.\n",
      "\n",
      "10. If Fernando decides to have lunch and dinner on Tuesday and Thursday only, how many different meal allocation options does he have?\n",
      "Answer: 2 options.\n"
     ]
    }
   ],
   "source": [
    "q=\"Fernando purchased a university meal plan that allows him to have a total of 3 lunches and 3 dinners per week. If the cafeteria is closed on weekends and Fernando always goes home for a dinner on Friday nights, how many options does he have to allocate his meals?\"\n",
    "question_generator = \"Generate 10 similar questions as the given question, and answer generated questions:\" + q\n",
    "questions = generate_question(question_generator, 1)\n",
    "print(questions)"
   ]
  },
  {
   "cell_type": "markdown",
   "id": "454a0671",
   "metadata": {},
   "source": [
    "# last"
   ]
  },
  {
   "cell_type": "code",
   "execution_count": 8,
   "id": "6a071553",
   "metadata": {},
   "outputs": [
    {
     "name": "stdout",
     "output_type": "stream",
     "text": [
      "1. What are the last letters of each word in \"Isabella Olivia Lila Mason\"? (Alia)\n",
      "2. What is the result of combining the last letters of each word in \"Matthew Daniel Caroline Emily\"? (Weny)\n",
      "3. Which letters should you take from the end of each word in \"Jacob Charlotte William Thomas\" to create a new word? (Bate)\n",
      "4. If you take the last letters of each word in \"Sophie Benjamin Jackson Olivia\", what word do you get? (Enoa)\n",
      "5. What is the combination of the last letters from each word in \"Nathan Henry Chloe Isabelle\"? (Nelc)\n",
      "6. What word is formed when you concatenate the final letters of each name in \"Jacob Emily Abigail Nathan\"? (Nely)\n",
      "7. If you take the last letter of each name in \"Ella Benjamin Samuel Isabella\", what word is formed? (Alei)\n",
      "8. What is the result of combining the final letters of each word in \"Zachary Olivia Elijah Matthew\"? (Yiah)\n",
      "9. What is the word created by concatenating the last letters of each name in \"Sophia Alexander Jackson Madison\"? (Nora)\n",
      "10. If you take the last letters from each word in \"Liam Emma Noah Ava\", what word do you get? (Moa) \n",
      "\n",
      "Answers:\n",
      "1. Alia\n",
      "2. Weny\n",
      "3. Bate\n",
      "4. Enoa\n",
      "5. Nelc\n",
      "6. Nely\n",
      "7. Alei\n",
      "8. Yiah\n",
      "9. Nora\n",
      "10. Moa\n"
     ]
    }
   ],
   "source": [
    "q = \"\"\"Take the last letters of each words in \"Amanda Geoff Belinda Gaurav\" and concatenate them.\"\"\"\n",
    "question_generator = \"Generate 10 questions with the same structure as the given question, and answer generated questions:\" + q\n",
    "questions = generate_question(question_generator, 1)\n",
    "print(questions)"
   ]
  },
  {
   "cell_type": "code",
   "execution_count": 28,
   "id": "3139d9d8",
   "metadata": {},
   "outputs": [
    {
     "data": {
      "text/plain": [
       "'asdas.'"
      ]
     },
     "execution_count": 28,
     "metadata": {},
     "output_type": "execute_result"
    }
   ],
   "source": [
    "a = \"asdas.  \"\n",
    "a.strip()"
   ]
  },
  {
   "cell_type": "code",
   "execution_count": null,
   "id": "3b8f32ea",
   "metadata": {},
   "outputs": [],
   "source": []
  }
 ],
 "metadata": {
  "kernelspec": {
   "display_name": "Python 3 (ipykernel)",
   "language": "python",
   "name": "python3"
  },
  "language_info": {
   "codemirror_mode": {
    "name": "ipython",
    "version": 3
   },
   "file_extension": ".py",
   "mimetype": "text/x-python",
   "name": "python",
   "nbconvert_exporter": "python",
   "pygments_lexer": "ipython3",
   "version": "3.8.12"
  }
 },
 "nbformat": 4,
 "nbformat_minor": 5
}
